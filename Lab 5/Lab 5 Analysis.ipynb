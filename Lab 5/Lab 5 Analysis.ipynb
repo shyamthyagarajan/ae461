{
 "cells": [
  {
   "cell_type": "code",
   "execution_count": 1,
   "metadata": {},
   "outputs": [],
   "source": [
    "import numpy as np\n",
    "import matplotlib.pyplot as plt\n",
    "\n",
    "asc_1 = np.loadtxt(\"Raw_Data_asc/0308-01.asc\", skiprows=11)\n",
    "asc_2 = np.loadtxt(\"Raw_Data_asc/0308-02.asc\", skiprows=11)\n",
    "asc_3 = np.loadtxt(\"Raw_Data_asc/0308-03.asc\", skiprows=11)\n",
    "asc_4 = np.loadtxt(\"Raw_Data_asc/0308-04.asc\", skiprows=11)\n",
    "asc_5 = np.loadtxt(\"Raw_Data_asc/0308-05.asc\", skiprows=11)\n",
    "asc_6 = np.loadtxt(\"Raw_Data_asc/0308-06.asc\", skiprows=11)\n",
    "asc_7 = np.loadtxt(\"Raw_Data_asc/0308-07.asc\", skiprows=11)\n",
    "asc_8 = np.loadtxt(\"Raw_Data_asc/0308-08.asc\", skiprows=11)\n",
    "asc_9 = np.loadtxt(\"Raw_Data_asc/0308-09.asc\", skiprows=11)\n",
    "asc_10 = np.loadtxt(\"Raw_Data_asc/0308-10.asc\", skiprows=11)\n",
    "asc_11 = np.loadtxt(\"Raw_Data_asc/0308-11.asc\", skiprows=11)\n",
    "asc_12 = np.loadtxt(\"Raw_Data_asc/0308-12.asc\", skiprows=11)\n",
    "asc_13 = np.loadtxt(\"Raw_Data_asc/0308-13.asc\", skiprows=11)\n",
    "asc_14 = np.loadtxt(\"Raw_Data_asc/0308-14.asc\", skiprows=11)\n",
    "asc_15 = np.loadtxt(\"Raw_Data_asc/0308-15.asc\", skiprows=11)\n",
    "asc_16 = np.loadtxt(\"Raw_Data_asc/0308-16.asc\", skiprows=11)\n",
    "asc_17 = np.loadtxt(\"Raw_Data_asc/0308-17.asc\", skiprows=11)"
   ]
  },
  {
   "cell_type": "code",
   "execution_count": 10,
   "metadata": {},
   "outputs": [],
   "source": [
    "X1 = asc_1[:,0]\n",
    "I1 = asc_1[:, 2]\n",
    "Mag1 = asc_1[:,3]\n",
    "\n",
    "X2 = asc_2[:,0]\n",
    "I2 = asc_2[:, 2]\n",
    "Mag2 = asc_2[:,3]\n",
    "\n",
    "X3 = asc_3[:,0]\n",
    "I3 = asc_3[:, 2]\n",
    "Mag3 = asc_3[:,3]\n",
    "\n",
    "X4 = asc_4[:,0]\n",
    "I4 = asc_4[:, 2]\n",
    "Mag4 = asc_4[:,3]\n",
    "\n",
    "X5 = asc_5[:,0]\n",
    "I5 = asc_5[:, 2]\n",
    "Mag5 = asc_5[:,3]\n",
    "\n",
    "X6 = asc_6[:,0]\n",
    "I6 = asc_6[:, 2]\n",
    "Mag6 = asc_6[:,3]\n",
    "\n",
    "X7 = asc_7[:,0]\n",
    "I7 = asc_7[:, 2]\n",
    "Mag7 = asc_7[:,3]\n",
    "\n",
    "X8 = asc_8[:,0]\n",
    "I8 = asc_8[:, 2]\n",
    "Mag8 = asc_8[:,3]\n",
    "\n",
    "X9 = asc_9[:,0]\n",
    "I9 = asc_9[:, 2]\n",
    "Mag9 = asc_9[:,3]\n",
    "\n",
    "X10 = asc_10[:,0]\n",
    "I10 = asc_10[:, 2]\n",
    "Mag10 = asc_10[:,3]\n",
    "\n",
    "X11 = asc_11[:,0]\n",
    "I11 = asc_11[:, 2]\n",
    "Mag11 = asc_11[:,3]\n",
    "\n",
    "X12 = asc_12[:,0]\n",
    "I12 = asc_12[:, 2]\n",
    "Mag12 = asc_12[:,3]\n",
    "\n",
    "X13 = asc_13[:,0]\n",
    "I13 = asc_13[:, 2]\n",
    "Mag13 = asc_13[:,3]\n",
    "\n",
    "X14 = asc_14[:,0]\n",
    "I14 = asc_14[:, 2]\n",
    "Mag14 = asc_14[:,3]\n",
    "\n",
    "X15 = asc_15[:,0]\n",
    "I15 = asc_15[:, 2]\n",
    "Mag15 = asc_15[:,3]\n",
    "\n",
    "X16 = asc_16[:,0]\n",
    "I16 = asc_16[:, 2]\n",
    "Mag16 = asc_16[:,3]\n",
    "\n",
    "X17 = asc_17[:,0]\n",
    "I17 = asc_17[:, 2]\n",
    "Mag17 = asc_17[:,3]"
   ]
  },
  {
   "cell_type": "code",
   "execution_count": 63,
   "metadata": {},
   "outputs": [
    {
     "data": {
      "image/png": "[encoded data removed]",
      "text/plain": [
       "<Figure size 432x288 with 1 Axes>"
      ]
     },
     "metadata": {
      "needs_background": "light"
     },
     "output_type": "display_data"
    }
   ],
   "source": [
    "plt.plot(X1, Mag1)\n",
    "plt.plot(X2, Mag2)\n",
    "plt.plot(X3, Mag3)\n",
    "plt.plot(X4, Mag4)\n",
    "plt.plot(X5, Mag5)\n",
    "plt.plot(X6, Mag6)\n",
    "plt.plot(X7, Mag7)\n",
    "plt.plot(X8, Mag8)\n",
    "plt.plot(X9, Mag9)\n",
    "plt.plot(X10, Mag10)\n",
    "plt.plot(X11, Mag11)\n",
    "plt.plot(X12, Mag12)\n",
    "plt.plot(X13, Mag13)\n",
    "plt.plot(X14, Mag14)\n",
    "plt.plot(X15, Mag15)\n",
    "plt.plot(X16, Mag16)\n",
    "plt.plot(X17, Mag17)\n",
    "\n",
    "plt.grid()\n",
    "plt.xlabel('X [Hz]')\n",
    "plt.ylabel('Mag [Vpk]')\n",
    "plt.show()"
   ]
  },
  {
   "cell_type": "code",
   "execution_count": 68,
   "metadata": {},
   "outputs": [
    {
     "data": {
      "image/png": "[encoded data removed]",
      "text/plain": [
       "<Figure size 432x288 with 1 Axes>"
      ]
     },
     "metadata": {
      "needs_background": "light"
     },
     "output_type": "display_data"
    }
   ],
   "source": [
    "plt.plot(X1, I1)\n",
    "# plt.plot(X2, I2)\n",
    "# plt.plot(X3, I3)\n",
    "# plt.plot(X4, I4)\n",
    "# plt.plot(X5, I5)\n",
    "# plt.plot(X6, I6)\n",
    "# plt.plot(X7, I7)\n",
    "# plt.plot(X8, I8)\n",
    "# plt.plot(X9, I9)\n",
    "# plt.plot(X10, I10)\n",
    "# plt.plot(X11, I11)\n",
    "# plt.plot(X12, I12)\n",
    "# plt.plot(X13, I13)\n",
    "# plt.plot(X14, I14)\n",
    "# plt.plot(X15, I15)\n",
    "# plt.plot(X16, I16)\n",
    "# plt.plot(X17, I17)\n",
    "\n",
    "plt.grid()\n",
    "plt.xlim(0, 40)\n",
    "plt.ylim(-0.0001, 0.0001)\n",
    "plt.xlabel('X [Hz]')\n",
    "plt.ylabel('I [Vpk]')\n",
    "plt.show()"
   ]
  },
  {
   "cell_type": "code",
   "execution_count": 4,
   "metadata": {},
   "outputs": [
    {
     "name": "stdout",
     "output_type": "stream",
     "text": [
      "25.476464072942516\n",
      "158.69492040980916\n",
      "446.7561157431229\n"
     ]
    }
   ],
   "source": [
    "#From Prelab (convert from rad/s to Hz)\n",
    "w1 = 160.02804065918664*0.1592\n",
    "w2 = 996.8273895088515*0.1592\n",
    "w3 = 2806.2570084367017*0.1592\n",
    "w4 = 5500.263736535936*0.1592\n",
    "w5 = 9092.272707334914*0.1592\n",
    "print(w1)\n",
    "print(w2)\n",
    "print(w3)"
   ]
  },
  {
   "cell_type": "code",
   "execution_count": 51,
   "metadata": {},
   "outputs": [],
   "source": [
    "from scipy.signal import find_peaks_cwt, find_peaks\n",
    "Magsum = Mag1 + Mag2 + Mag3 + Mag4 + Mag5 + Mag6 + Mag7 + Mag8 + Mag9 + Mag10 + Mag11 + Mag12 + Mag13 + Mag14 + Mag15 + Mag16 + Mag17\n",
    "peaks = find_peaks((Magsum)/17, np.arange(1,10))"
   ]
  },
  {
   "cell_type": "code",
   "execution_count": 52,
   "metadata": {},
   "outputs": [
    {
     "data": {
      "text/plain": [
       "(array([ 30,  74, 111, 150, 206, 245, 279, 332, 365, 405, 439, 479, 538,\n",
       "        569, 611, 666, 696, 740, 789], dtype=int64),\n",
       " {})"
      ]
     },
     "execution_count": 52,
     "metadata": {},
     "output_type": "execute_result"
    }
   ],
   "source": [
    "peaks"
   ]
  },
  {
   "cell_type": "code",
   "execution_count": 7,
   "metadata": {},
   "outputs": [],
   "source": [
    "w1_plot = 30\n",
    "w2_plot = 150\n",
    "w3_plot = 406"
   ]
  },
  {
   "cell_type": "code",
   "execution_count": 61,
   "metadata": {},
   "outputs": [
    {
     "data": {
      "text/plain": [
       "(array([  2,  12,  22,  30,  35,  40,  43,  46,  53,  56,  60,  63,  69,\n",
       "         74,  78,  81,  85,  90,  94,  98, 104, 107, 111, 115, 120, 131,\n",
       "        136, 140, 145, 150, 157, 163, 170, 173, 177, 180, 189, 194, 200,\n",
       "        203, 212, 216, 222, 225, 228, 235, 239, 241, 245, 248, 252, 255,\n",
       "        258, 261, 265, 268, 272, 275, 280, 284, 288, 292, 295, 298, 301,\n",
       "        305, 308, 312, 315, 318, 324, 328, 331, 335, 339, 344, 348, 352,\n",
       "        355, 359, 361, 365, 368, 372, 374, 378, 383, 388, 391, 395, 401,\n",
       "        405, 410, 414, 417, 423, 430, 434, 443, 447, 453, 457, 464, 469,\n",
       "        474, 476, 481, 489, 493, 496, 501, 504, 506, 510, 515, 517, 519,\n",
       "        521, 523, 530, 534, 541, 547, 553, 560, 564, 568, 572, 575, 579,\n",
       "        583, 587, 590, 595, 601, 606, 609, 614, 621, 626, 634, 640, 647,\n",
       "        650, 654, 660, 663, 670, 676, 683, 689, 695, 701, 709, 715, 722,\n",
       "        724, 728, 733, 737, 740, 748, 752, 756, 760, 765, 769, 773, 778,\n",
       "        781, 788, 793, 796], dtype=int64),\n",
       " {})"
      ]
     },
     "execution_count": 61,
     "metadata": {},
     "output_type": "execute_result"
    }
   ],
   "source": [
    "peaks = find_peaks(I1, distance=2)\n",
    "peaks"
   ]
  }
 ],
 "metadata": {
  "kernelspec": {
   "display_name": "Python 3",
   "language": "python",
   "name": "python3"
  },
  "language_info": {
   "codemirror_mode": {
    "name": "ipython",
    "version": 3
   },
   "file_extension": ".py",
   "mimetype": "text/x-python",
   "name": "python",
   "nbconvert_exporter": "python",
   "pygments_lexer": "ipython3",
   "version": "3.9.6"
  }
 },
 "nbformat": 4,
 "nbformat_minor": 4
}
