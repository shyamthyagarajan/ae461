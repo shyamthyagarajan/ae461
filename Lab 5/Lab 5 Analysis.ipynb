{
 "cells": [
  {
   "cell_type": "code",
   "execution_count": 1,
   "metadata": {},
   "outputs": [],
   "source": [
    "import numpy as np\n",
    "import matplotlib.pyplot as plt\n",
    "\n",
    "asc_1 = np.loadtxt(\"Raw_Data_asc/0308-01.asc\", skiprows=11)\n",
    "asc_2 = np.loadtxt(\"Raw_Data_asc/0308-02.asc\", skiprows=11)\n",
    "asc_3 = np.loadtxt(\"Raw_Data_asc/0308-03.asc\", skiprows=11)\n",
    "asc_4 = np.loadtxt(\"Raw_Data_asc/0308-04.asc\", skiprows=11)\n",
    "asc_5 = np.loadtxt(\"Raw_Data_asc/0308-05.asc\", skiprows=11)\n",
    "asc_6 = np.loadtxt(\"Raw_Data_asc/0308-06.asc\", skiprows=11)\n",
    "asc_7 = np.loadtxt(\"Raw_Data_asc/0308-07.asc\", skiprows=11)\n",
    "asc_8 = np.loadtxt(\"Raw_Data_asc/0308-08.asc\", skiprows=11)\n",
    "asc_9 = np.loadtxt(\"Raw_Data_asc/0308-09.asc\", skiprows=11)\n",
    "asc_10 = np.loadtxt(\"Raw_Data_asc/0308-10.asc\", skiprows=11)\n",
    "asc_11 = np.loadtxt(\"Raw_Data_asc/0308-11.asc\", skiprows=11)\n",
    "asc_12 = np.loadtxt(\"Raw_Data_asc/0308-12.asc\", skiprows=11)\n",
    "asc_13 = np.loadtxt(\"Raw_Data_asc/0308-13.asc\", skiprows=11)\n",
    "asc_14 = np.loadtxt(\"Raw_Data_asc/0308-14.asc\", skiprows=11)\n",
    "asc_15 = np.loadtxt(\"Raw_Data_asc/0308-15.asc\", skiprows=11)\n",
    "asc_16 = np.loadtxt(\"Raw_Data_asc/0308-16.asc\", skiprows=11)\n",
    "asc_17 = np.loadtxt(\"Raw_Data_asc/0308-17.asc\", skiprows=11)"
   ]
  },
  {
   "cell_type": "code",
   "execution_count": 2,
   "metadata": {},
   "outputs": [],
   "source": [
    "X1 = asc_1[:,0]\n",
    "Mag1 = asc_1[:,3]\n",
    "\n",
    "X2 = asc_2[:,0]\n",
    "Mag2 = asc_2[:,3]\n",
    "\n",
    "X3 = asc_3[:,0]\n",
    "Mag3 = asc_3[:,3]\n",
    "\n",
    "X4 = asc_4[:,0]\n",
    "Mag4 = asc_4[:,3]\n",
    "\n",
    "X5 = asc_5[:,0]\n",
    "Mag5 = asc_5[:,3]\n",
    "\n",
    "X6 = asc_6[:,0]\n",
    "Mag6 = asc_6[:,3]\n",
    "\n",
    "X7 = asc_7[:,0]\n",
    "Mag7 = asc_7[:,3]\n",
    "\n",
    "X8 = asc_8[:,0]\n",
    "Mag8 = asc_8[:,3]\n",
    "\n",
    "X9 = asc_9[:,0]\n",
    "Mag9 = asc_9[:,3]\n",
    "\n",
    "X10 = asc_10[:,0]\n",
    "Mag10 = asc_10[:,3]\n",
    "\n",
    "X11 = asc_11[:,0]\n",
    "Mag11 = asc_11[:,3]\n",
    "\n",
    "X12 = asc_12[:,0]\n",
    "Mag12 = asc_12[:,3]\n",
    "\n",
    "X13 = asc_13[:,0]\n",
    "Mag13 = asc_13[:,3]\n",
    "\n",
    "X14 = asc_14[:,0]\n",
    "Mag14 = asc_14[:,3]\n",
    "\n",
    "X15 = asc_15[:,0]\n",
    "Mag15 = asc_15[:,3]\n",
    "\n",
    "X16 = asc_16[:,0]\n",
    "Mag16 = asc_16[:,3]\n",
    "\n",
    "X17 = asc_17[:,0]\n",
    "Mag17 = asc_17[:,3]"
   ]
  },
  {
   "cell_type": "code",
   "execution_count": 3,
   "metadata": {},
   "outputs": [
    {
     "data": {
      "image/png": "[encoded data removed]",
      "text/plain": [
       "<Figure size 432x288 with 1 Axes>"
      ]
     },
     "metadata": {
      "needs_background": "light"
     },
     "output_type": "display_data"
    }
   ],
   "source": [
    "plt.plot(X1, Mag1)\n",
    "plt.plot(X2, Mag2)\n",
    "plt.plot(X3, Mag3)\n",
    "plt.plot(X4, Mag4)\n",
    "plt.plot(X5, Mag5)\n",
    "plt.plot(X6, Mag6)\n",
    "plt.plot(X7, Mag7)\n",
    "plt.plot(X8, Mag8)\n",
    "plt.plot(X9, Mag9)\n",
    "plt.plot(X10, Mag10)\n",
    "plt.plot(X11, Mag11)\n",
    "plt.plot(X12, Mag12)\n",
    "plt.plot(X13, Mag13)\n",
    "plt.plot(X14, Mag14)\n",
    "plt.plot(X15, Mag15)\n",
    "plt.plot(X16, Mag16)\n",
    "plt.plot(X17, Mag17)\n",
    "\n",
    "plt.grid()\n",
    "plt.xlabel('X [Hz]')\n",
    "plt.ylabel('Mag [Vpk]')\n",
    "plt.show()"
   ]
  },
  {
   "cell_type": "code",
   "execution_count": 4,
   "metadata": {},
   "outputs": [
    {
     "name": "stdout",
     "output_type": "stream",
     "text": [
      "25.476464072942516\n",
      "158.69492040980916\n",
      "446.7561157431229\n"
     ]
    }
   ],
   "source": [
    "#From Prelab (convert from rad/s to Hz)\n",
    "w1 = 160.02804065918664*0.1592\n",
    "w2 = 996.8273895088515*0.1592\n",
    "w3 = 2806.2570084367017*0.1592\n",
    "w4 = 5500.263736535936*0.1592\n",
    "w5 = 9092.272707334914*0.1592\n",
    "print(w1)\n",
    "print(w2)\n",
    "print(w3)"
   ]
  },
  {
   "cell_type": "code",
   "execution_count": 5,
   "metadata": {},
   "outputs": [],
   "source": [
    "from scipy.signal import find_peaks_cwt\n",
    "Magsum = Mag1 + Mag2 + Mag3 + Mag4 + Mag5 + Mag6 + Mag7 + Mag8 + Mag9 + Mag10 + Mag11 + Mag12 + Mag13 + Mag14 + Mag15 + Mag16 + Mag17\n",
    "peaks = find_peaks_cwt((Magsum)/17, np.arange(1,10))"
   ]
  },
  {
   "cell_type": "code",
   "execution_count": 6,
   "metadata": {},
   "outputs": [
    {
     "data": {
      "text/plain": [
       "array([  1,  30,  74, 150, 206, 261, 280, 291, 304, 332, 406, 460, 479,\n",
       "       518, 537, 553, 562, 581, 592, 611, 623, 666, 740, 789], dtype=int64)"
      ]
     },
     "execution_count": 6,
     "metadata": {},
     "output_type": "execute_result"
    }
   ],
   "source": [
    "peaks"
   ]
  },
  {
   "cell_type": "code",
   "execution_count": 7,
   "metadata": {},
   "outputs": [],
   "source": [
    "w1_plot = 30\n",
    "w2_plot = 150\n",
    "w3_plot = 406"
   ]
  },
  {
   "cell_type": "code",
   "execution_count": null,
   "metadata": {},
   "outputs": [],
   "source": []
  }
 ],
 "metadata": {
  "kernelspec": {
   "display_name": "Python 3",
   "language": "python",
   "name": "python3"
  },
  "language_info": {
   "codemirror_mode": {
    "name": "ipython",
    "version": 3
   },
   "file_extension": ".py",
   "mimetype": "text/x-python",
   "name": "python",
   "nbconvert_exporter": "python",
   "pygments_lexer": "ipython3",
   "version": "3.8.5"
  }
 },
 "nbformat": 4,
 "nbformat_minor": 4
}
