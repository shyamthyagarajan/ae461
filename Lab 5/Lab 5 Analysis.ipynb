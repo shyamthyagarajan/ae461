{
 "cells": [
  {
   "cell_type": "code",
   "execution_count": 1,
   "metadata": {},
   "outputs": [],
   "source": [
    "import numpy as np\n",
    "\n",
    "asc_1 = np.loadtxt(\"Raw_Data_asc/0308-01.asc\", skiprows=11)\n",
    "asc_2 = np.loadtxt(\"Raw_Data_asc/0308-02.asc\", skiprows=11)\n",
    "asc_3 = np.loadtxt(\"Raw_Data_asc/0308-03.asc\", skiprows=11)\n",
    "asc_4 = np.loadtxt(\"Raw_Data_asc/0308-04.asc\", skiprows=11)\n",
    "asc_5 = np.loadtxt(\"Raw_Data_asc/0308-05.asc\", skiprows=11)\n",
    "asc_6 = np.loadtxt(\"Raw_Data_asc/0308-06.asc\", skiprows=11)\n",
    "asc_7 = np.loadtxt(\"Raw_Data_asc/0308-07.asc\", skiprows=11)\n",
    "asc_8 = np.loadtxt(\"Raw_Data_asc/0308-08.asc\", skiprows=11)\n",
    "asc_9 = np.loadtxt(\"Raw_Data_asc/0308-09.asc\", skiprows=11)\n",
    "asc_10 = np.loadtxt(\"Raw_Data_asc/0308-10.asc\", skiprows=11)\n",
    "asc_11 = np.loadtxt(\"Raw_Data_asc/0308-11.asc\", skiprows=11)\n",
    "asc_12 = np.loadtxt(\"Raw_Data_asc/0308-12.asc\", skiprows=11)\n",
    "asc_13 = np.loadtxt(\"Raw_Data_asc/0308-13.asc\", skiprows=11)\n",
    "asc_14 = np.loadtxt(\"Raw_Data_asc/0308-14.asc\", skiprows=11)\n",
    "asc_15 = np.loadtxt(\"Raw_Data_asc/0308-15.asc\", skiprows=11)\n",
    "asc_16 = np.loadtxt(\"Raw_Data_asc/0308-16.asc\", skiprows=11)\n",
    "asc_17 = np.loadtxt(\"Raw_Data_asc/0308-17.asc\", skiprows=11)"
   ]
  },
  {
   "cell_type": "code",
   "execution_count": null,
   "metadata": {},
   "outputs": [],
   "source": []
  }
 ],
 "metadata": {
  "kernelspec": {
   "display_name": "Python 3",
   "language": "python",
   "name": "python3"
  },
  "language_info": {
   "codemirror_mode": {
    "name": "ipython",
    "version": 3
   },
   "file_extension": ".py",
   "mimetype": "text/x-python",
   "name": "python",
   "nbconvert_exporter": "python",
   "pygments_lexer": "ipython3",
   "version": "3.8.5"
  }
 },
 "nbformat": 4,
 "nbformat_minor": 4
}
