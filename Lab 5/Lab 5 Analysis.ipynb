{
 "cells": [
  {
   "cell_type": "code",
   "execution_count": 1,
   "metadata": {},
   "outputs": [],
   "source": [
    "import numpy as np\n",
    "import matplotlib.pyplot as plt\n",
    "\n",
    "asc_1 = np.loadtxt(\"Raw_Data_asc/0308-01.asc\", skiprows=11)\n",
    "asc_2 = np.loadtxt(\"Raw_Data_asc/0308-02.asc\", skiprows=11)\n",
    "asc_3 = np.loadtxt(\"Raw_Data_asc/0308-03.asc\", skiprows=11)\n",
    "asc_4 = np.loadtxt(\"Raw_Data_asc/0308-04.asc\", skiprows=11)\n",
    "asc_5 = np.loadtxt(\"Raw_Data_asc/0308-05.asc\", skiprows=11)\n",
    "asc_6 = np.loadtxt(\"Raw_Data_asc/0308-06.asc\", skiprows=11)\n",
    "asc_7 = np.loadtxt(\"Raw_Data_asc/0308-07.asc\", skiprows=11)\n",
    "asc_8 = np.loadtxt(\"Raw_Data_asc/0308-08.asc\", skiprows=11)\n",
    "asc_9 = np.loadtxt(\"Raw_Data_asc/0308-09.asc\", skiprows=11)\n",
    "asc_10 = np.loadtxt(\"Raw_Data_asc/0308-10.asc\", skiprows=11)\n",
    "asc_11 = np.loadtxt(\"Raw_Data_asc/0308-11.asc\", skiprows=11)\n",
    "asc_12 = np.loadtxt(\"Raw_Data_asc/0308-12.asc\", skiprows=11)\n",
    "asc_13 = np.loadtxt(\"Raw_Data_asc/0308-13.asc\", skiprows=11)\n",
    "asc_14 = np.loadtxt(\"Raw_Data_asc/0308-14.asc\", skiprows=11)\n",
    "asc_15 = np.loadtxt(\"Raw_Data_asc/0308-15.asc\", skiprows=11)\n",
    "asc_16 = np.loadtxt(\"Raw_Data_asc/0308-16.asc\", skiprows=11)\n",
    "asc_17 = np.loadtxt(\"Raw_Data_asc/0308-17.asc\", skiprows=11)"
   ]
  },
  {
   "cell_type": "code",
   "execution_count": 2,
   "metadata": {},
   "outputs": [],
   "source": [
    "X1 = asc_1[:,0]\n",
    "I1 = asc_1[:, 2]\n",
    "Mag1 = asc_1[:,3]\n",
    "\n",
    "X2 = asc_2[:,0]\n",
    "I2 = asc_2[:, 2]\n",
    "Mag2 = asc_2[:,3]\n",
    "\n",
    "X3 = asc_3[:,0]\n",
    "I3 = asc_3[:, 2]\n",
    "Mag3 = asc_3[:,3]\n",
    "\n",
    "X4 = asc_4[:,0]\n",
    "I4 = asc_4[:, 2]\n",
    "Mag4 = asc_4[:,3]\n",
    "\n",
    "X5 = asc_5[:,0]\n",
    "I5 = asc_5[:, 2]\n",
    "Mag5 = asc_5[:,3]\n",
    "\n",
    "X6 = asc_6[:,0]\n",
    "I6 = asc_6[:, 2]\n",
    "Mag6 = asc_6[:,3]\n",
    "\n",
    "X7 = asc_7[:,0]\n",
    "I7 = asc_7[:, 2]\n",
    "Mag7 = asc_7[:,3]\n",
    "\n",
    "X8 = asc_8[:,0]\n",
    "I8 = asc_8[:, 2]\n",
    "Mag8 = asc_8[:,3]\n",
    "\n",
    "X9 = asc_9[:,0]\n",
    "I9 = asc_9[:, 2]\n",
    "Mag9 = asc_9[:,3]\n",
    "\n",
    "X10 = asc_10[:,0]\n",
    "I10 = asc_10[:, 2]\n",
    "Mag10 = asc_10[:,3]\n",
    "\n",
    "X11 = asc_11[:,0]\n",
    "I11 = asc_11[:, 2]\n",
    "Mag11 = asc_11[:,3]\n",
    "\n",
    "X12 = asc_12[:,0]\n",
    "I12 = asc_12[:, 2]\n",
    "Mag12 = asc_12[:,3]\n",
    "\n",
    "X13 = asc_13[:,0]\n",
    "I13 = asc_13[:, 2]\n",
    "Mag13 = asc_13[:,3]\n",
    "\n",
    "X14 = asc_14[:,0]\n",
    "I14 = asc_14[:, 2]\n",
    "Mag14 = asc_14[:,3]\n",
    "\n",
    "X15 = asc_15[:,0]\n",
    "I15 = asc_15[:, 2]\n",
    "Mag15 = asc_15[:,3]\n",
    "\n",
    "X16 = asc_16[:,0]\n",
    "I16 = asc_16[:, 2]\n",
    "Mag16 = asc_16[:,3]\n",
    "\n",
    "X17 = asc_17[:,0]\n",
    "I17 = asc_17[:, 2]\n",
    "Mag17 = asc_17[:,3]\n",
    "\n",
    "R1 = asc_1[:,1]\n",
    "R2 = asc_2[:,1]\n",
    "R3 = asc_3[:,1]\n",
    "R4 = asc_4[:,1]\n",
    "R5 = asc_5[:,1]\n",
    "R6 = asc_6[:,1]\n",
    "R7 = asc_7[:,1]\n",
    "R8 = asc_8[:,1]\n",
    "R9 = asc_9[:,1]\n",
    "R10 = asc_10[:,1]\n",
    "R11 = asc_11[:,1]\n",
    "R12 = asc_12[:,1]\n",
    "R13 = asc_13[:,1]\n",
    "R14 = asc_14[:,1]\n",
    "R15 = asc_15[:,1]\n",
    "R16 = asc_16[:,1]\n",
    "R17 = asc_17[:,1]"
   ]
  },
  {
   "cell_type": "code",
   "execution_count": 3,
   "metadata": {},
   "outputs": [
    {
     "data": {
      "image/png": "[encoded data removed]",
      "text/plain": [
       "<Figure size 432x288 with 1 Axes>"
      ]
     },
     "metadata": {
      "needs_background": "light"
     },
     "output_type": "display_data"
    }
   ],
   "source": [
    "plt.plot(X1, Mag1)\n",
    "plt.plot(X2, Mag2)\n",
    "plt.plot(X3, Mag3)\n",
    "plt.plot(X4, Mag4)\n",
    "plt.plot(X5, Mag5)\n",
    "plt.plot(X6, Mag6)\n",
    "plt.plot(X7, Mag7)\n",
    "plt.plot(X8, Mag8)\n",
    "plt.plot(X9, Mag9)\n",
    "plt.plot(X10, Mag10)\n",
    "plt.plot(X11, Mag11)\n",
    "plt.plot(X12, Mag12)\n",
    "plt.plot(X13, Mag13)\n",
    "plt.plot(X14, Mag14)\n",
    "plt.plot(X15, Mag15)\n",
    "plt.plot(X16, Mag16)\n",
    "plt.plot(X17, Mag17)\n",
    "\n",
    "plt.grid()\n",
    "plt.xlabel('X [Hz]')\n",
    "plt.ylabel('Mag [Vpk]')\n",
    "plt.show()"
   ]
  },
  {
   "cell_type": "code",
   "execution_count": 4,
   "metadata": {},
   "outputs": [
    {
     "data": {
      "image/png": "[encoded data removed]",
      "text/plain": [
       "<Figure size 432x288 with 1 Axes>"
      ]
     },
     "metadata": {
      "needs_background": "light"
     },
     "output_type": "display_data"
    }
   ],
   "source": [
    "plt.plot(X1, I1)\n",
    "# plt.plot(X2, I2)\n",
    "# plt.plot(X3, I3)\n",
    "# plt.plot(X4, I4)\n",
    "# plt.plot(X5, I5)\n",
    "# plt.plot(X6, I6)\n",
    "# plt.plot(X7, I7)\n",
    "# plt.plot(X8, I8)\n",
    "# plt.plot(X9, I9)\n",
    "# plt.plot(X10, I10)\n",
    "# plt.plot(X11, I11)\n",
    "# plt.plot(X12, I12)\n",
    "# plt.plot(X13, I13)\n",
    "# plt.plot(X14, I14)\n",
    "# plt.plot(X15, I15)\n",
    "# plt.plot(X16, I16)\n",
    "# plt.plot(X17, I17)\n",
    "\n",
    "plt.grid()\n",
    "plt.xlim(0, 40)\n",
    "plt.ylim(-0.0001, 0.0001)\n",
    "plt.xlabel('X [Hz]')\n",
    "plt.ylabel('I [Vpk]')\n",
    "plt.show()"
   ]
  },
  {
   "cell_type": "code",
   "execution_count": 5,
   "metadata": {},
   "outputs": [
    {
     "name": "stdout",
     "output_type": "stream",
     "text": [
      "25.476464072942516\n",
      "158.69492040980916\n",
      "446.7561157431229\n"
     ]
    }
   ],
   "source": [
    "#From Prelab (convert from rad/s to Hz)\n",
    "w1 = 160.02804065918664*0.1592\n",
    "w2 = 996.8273895088515*0.1592\n",
    "w3 = 2806.2570084367017*0.1592\n",
    "w4 = 5500.263736535936*0.1592\n",
    "w5 = 9092.272707334914*0.1592\n",
    "print(w1)\n",
    "print(w2)\n",
    "print(w3)"
   ]
  },
  {
   "cell_type": "code",
   "execution_count": 6,
   "metadata": {},
   "outputs": [],
   "source": [
    "from scipy.signal import find_peaks_cwt, find_peaks\n",
    "Magsum = Mag1 + Mag2 + Mag3 + Mag4 + Mag5 + Mag6 + Mag7 + Mag8 + Mag9 + Mag10 + Mag11 + Mag12 + Mag13 + Mag14 + Mag15 + Mag16 + Mag17\n",
    "peaks = find_peaks_cwt((Magsum)/17, np.arange(1,10))"
   ]
  },
  {
   "cell_type": "code",
   "execution_count": 7,
   "metadata": {},
   "outputs": [
    {
     "data": {
      "text/plain": [
       "array([  1,  30,  74, 150, 206, 261, 280, 291, 304, 332, 406, 460, 479,\n",
       "       518, 537, 553, 562, 581, 592, 611, 623, 666, 740, 789], dtype=int64)"
      ]
     },
     "execution_count": 7,
     "metadata": {},
     "output_type": "execute_result"
    }
   ],
   "source": [
    "peaks"
   ]
  },
  {
   "cell_type": "code",
   "execution_count": 8,
   "metadata": {},
   "outputs": [],
   "source": [
    "w1_plot = 30\n",
    "w2_plot = 150\n",
    "w3_plot = 406"
   ]
  },
  {
   "cell_type": "code",
   "execution_count": 9,
   "metadata": {},
   "outputs": [
    {
     "data": {
      "text/plain": [
       "(array([  2,  12,  22,  30,  35,  40,  43,  46,  53,  56,  60,  63,  69,\n",
       "         74,  78,  81,  85,  90,  94,  98, 104, 107, 111, 115, 120, 131,\n",
       "        136, 140, 145, 150, 157, 163, 170, 173, 177, 180, 189, 194, 200,\n",
       "        203, 212, 216, 222, 225, 228, 235, 239, 241, 245, 248, 252, 255,\n",
       "        258, 261, 265, 268, 272, 275, 280, 284, 288, 292, 295, 298, 301,\n",
       "        305, 308, 312, 315, 318, 324, 328, 331, 335, 339, 344, 348, 352,\n",
       "        355, 359, 361, 365, 368, 372, 374, 378, 383, 388, 391, 395, 401,\n",
       "        405, 410, 414, 417, 423, 430, 434, 443, 447, 453, 457, 464, 469,\n",
       "        474, 476, 481, 489, 493, 496, 501, 504, 506, 510, 515, 517, 519,\n",
       "        521, 523, 530, 534, 541, 547, 553, 560, 564, 568, 572, 575, 579,\n",
       "        583, 587, 590, 595, 601, 606, 609, 614, 621, 626, 634, 640, 647,\n",
       "        650, 654, 660, 663, 670, 676, 683, 689, 695, 701, 709, 715, 722,\n",
       "        724, 728, 733, 737, 740, 748, 752, 756, 760, 765, 769, 773, 778,\n",
       "        781, 788, 793, 796], dtype=int64),\n",
       " {})"
      ]
     },
     "execution_count": 9,
     "metadata": {},
     "output_type": "execute_result"
    }
   ],
   "source": [
    "peaks = find_peaks(I1, distance=2)\n",
    "peaks"
   ]
  },
  {
   "cell_type": "code",
   "execution_count": 10,
   "metadata": {},
   "outputs": [],
   "source": [
    "# from scipy.signal import argrelextrema, find_peaks\n",
    "# # peaks_real = argrelextrema(R1, np.less)\n",
    "# peaks_real = find_peaks_cwt(Mag1, np.arange(1,10))"
   ]
  },
  {
   "cell_type": "code",
   "execution_count": 11,
   "metadata": {},
   "outputs": [],
   "source": [
    "# peaks_real"
   ]
  },
  {
   "cell_type": "code",
   "execution_count": 12,
   "metadata": {},
   "outputs": [],
   "source": [
    "# plt.plot(X8, Mag8)\n",
    "# plt.grid()\n",
    "# plt.show()"
   ]
  },
  {
   "cell_type": "code",
   "execution_count": 13,
   "metadata": {},
   "outputs": [
    {
     "data": {
      "text/plain": [
       "75"
      ]
     },
     "execution_count": 13,
     "metadata": {},
     "output_type": "execute_result"
    }
   ],
   "source": [
    "index = np.argmin(np.abs(X1-150))\n",
    "index"
   ]
  },
  {
   "cell_type": "code",
   "execution_count": 14,
   "metadata": {},
   "outputs": [
    {
     "data": {
      "text/plain": [
       "8.724163e-05"
      ]
     },
     "execution_count": 14,
     "metadata": {},
     "output_type": "execute_result"
    }
   ],
   "source": [
    "I1[index]"
   ]
  },
  {
   "cell_type": "code",
   "execution_count": 15,
   "metadata": {},
   "outputs": [],
   "source": [
    "def findVectorW1(I, X):\n",
    "    index = np.argmin(np.abs(X-30))\n",
    "    return I[index]"
   ]
  },
  {
   "cell_type": "code",
   "execution_count": 16,
   "metadata": {},
   "outputs": [],
   "source": [
    "I1_vector = []\n",
    "Inew = [I1, I2, I3, I4, I5, I6, I7, I8, I9, I10, I11, I12, I13, I14, I15, I16, I17]\n",
    "Xnew = [X1, X2, X3, X4, X5, X6, X7, X8, X9, X10, X11, X12, X13, X14, X15, X16, X17]\n",
    "for i in range(17):\n",
    "    I1_vector.append(findVectorW1(Inew[i], Xnew[i]))"
   ]
  },
  {
   "cell_type": "code",
   "execution_count": 17,
   "metadata": {},
   "outputs": [
    {
     "name": "stdout",
     "output_type": "stream",
     "text": [
      "[-1.464985e-06, -1.189863e-06, -2.95781e-06, 2.082079e-06, 4.645409e-06, -7.610973e-07, -1.39658e-06, -1.109168e-06, -2.377143e-06, -4.508712e-06, 2.696007e-06, -1.559321e-06, 5.701586e-06, -1.121864e-06, -5.061731e-08, -1.584553e-06, -3.648501e-06]\n"
     ]
    }
   ],
   "source": [
    "print(I1_vector)"
   ]
  },
  {
   "cell_type": "code",
   "execution_count": 18,
   "metadata": {},
   "outputs": [],
   "source": [
    "I1_norm = I1_vector / np.max(np.abs(I1_vector))"
   ]
  },
  {
   "cell_type": "code",
   "execution_count": 19,
   "metadata": {},
   "outputs": [
    {
     "name": "stdout",
     "output_type": "stream",
     "text": [
      "[-0.25694342 -0.20868983 -0.51876969  0.36517541  0.81475733 -0.1334887\n",
      " -0.24494588 -0.19453675 -0.41692662 -0.79078207  0.47285212 -0.27348899\n",
      "  1.         -0.1967635  -0.00887776 -0.27791443 -0.63990984]\n"
     ]
    }
   ],
   "source": [
    "print(I1_norm)"
   ]
  },
  {
   "cell_type": "code",
   "execution_count": 20,
   "metadata": {},
   "outputs": [
    {
     "data": {
      "image/png": "[encoded data removed]",
      "text/plain": [
       "<Figure size 432x288 with 1 Axes>"
      ]
     },
     "metadata": {
      "needs_background": "light"
     },
     "output_type": "display_data"
    }
   ],
   "source": [
    "plt.scatter(np.arange(1, 18), I1_norm)\n",
    "plt.grid()\n",
    "plt.xlabel('Point on Beam')\n",
    "plt.ylabel('Normalized I Value')\n",
    "plt.show()"
   ]
  },
  {
   "cell_type": "code",
   "execution_count": 21,
   "metadata": {},
   "outputs": [
    {
     "name": "stdout",
     "output_type": "stream",
     "text": [
      "[8.724163e-05, 9.766861e-05, 2.195601e-05, -1.22519e-05, -8.560502e-06, -3.055435e-05, 2.390048e-05, -9.076801e-06, 3.71952e-06, 5.421642e-05, -2.945202e-07, 2.129141e-06, 2.877095e-05, -9.280301e-05, -6.673764e-05, -5.877775e-05, -1.015433e-05]\n"
     ]
    },
    {
     "data": {
      "image/png": "[encoded data removed]",
      "text/plain": [
       "<Figure size 432x288 with 1 Axes>"
      ]
     },
     "metadata": {
      "needs_background": "light"
     },
     "output_type": "display_data"
    }
   ],
   "source": [
    "def findVectorW2(I, X):\n",
    "    index = np.argmin(np.abs(X-150))\n",
    "    return I[index]\n",
    "I2_vector = []\n",
    "for i in range(17):\n",
    "    I2_vector.append(findVectorW2(Inew[i], Xnew[i]))\n",
    "I2_norm = I2_vector / np.max(np.abs(I2_vector))\n",
    "print(I2_vector)\n",
    "plt.scatter(np.arange(1, 18), I2_norm)\n",
    "plt.grid()\n",
    "plt.xlabel('Point on Beam')\n",
    "plt.ylabel('Normalized I Value')\n",
    "plt.show()"
   ]
  },
  {
   "cell_type": "code",
   "execution_count": 23,
   "metadata": {},
   "outputs": [
    {
     "name": "stdout",
     "output_type": "stream",
     "text": [
      "[1.283174e-05, 3.763709e-06, 3.596148e-06, -5.233535e-05, -1.743679e-06, -2.557411e-05, -4.702343e-05, -1.743985e-05, -1.716975e-07, 1.579317e-05, -1.995414e-07, 2.34582e-05, -1.497152e-05, -1.393923e-05, 5.323459e-05, -1.023416e-05, 6.264146e-08]\n"
     ]
    },
    {
     "data": {
      "image/png": "[encoded data removed]",
      "text/plain": [
       "<Figure size 432x288 with 1 Axes>"
      ]
     },
     "metadata": {
      "needs_background": "light"
     },
     "output_type": "display_data"
    }
   ],
   "source": [
    "def findVectorW3(I, X):\n",
    "    index = np.argmin(np.abs(X-406))\n",
    "    return I[index]\n",
    "I3_vector = []\n",
    "for i in range(17):\n",
    "    I3_vector.append(findVectorW3(Inew[i], Xnew[i]))\n",
    "I3_norm = I3_vector / np.max(np.abs(I3_vector))\n",
    "print(I3_vector)\n",
    "plt.scatter(np.arange(1, 18), I3_norm)\n",
    "plt.grid()\n",
    "plt.xlabel('Point on Beam')\n",
    "plt.ylabel('Normalized I Value')\n",
    "plt.show()"
   ]
  },
  {
   "cell_type": "code",
   "execution_count": null,
   "metadata": {},
   "outputs": [],
   "source": []
  }
 ],
 "metadata": {
  "kernelspec": {
   "display_name": "Python 3",
   "language": "python",
   "name": "python3"
  },
  "language_info": {
   "codemirror_mode": {
    "name": "ipython",
    "version": 3
   },
   "file_extension": ".py",
   "mimetype": "text/x-python",
   "name": "python",
   "nbconvert_exporter": "python",
   "pygments_lexer": "ipython3",
   "version": "3.8.5"
  }
 },
 "nbformat": 4,
 "nbformat_minor": 4
}
