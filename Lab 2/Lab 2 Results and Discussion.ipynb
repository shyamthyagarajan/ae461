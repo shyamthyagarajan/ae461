{
 "cells": [
  {
   "cell_type": "code",
   "execution_count": 1,
   "metadata": {},
   "outputs": [],
   "source": [
    "import numpy as np\n",
    "import matplotlib.pyplot as plt"
   ]
  },
  {
   "cell_type": "markdown",
   "metadata": {},
   "source": [
    "## 3. Calculate stress at each fringe location for unnotched beam, plot stress vs. fringe order. Find fringe constant"
   ]
  },
  {
   "cell_type": "code",
   "execution_count": 2,
   "metadata": {},
   "outputs": [
    {
     "data": {
      "text/plain": [
       "{L_2: 3/2, L_3: 7/2}"
      ]
     },
     "execution_count": 2,
     "metadata": {},
     "output_type": "execute_result"
    }
   ],
   "source": [
    "thickness = 0.2165 #in\n",
    "I_moment = (1/12)*thickness*(0.9975**3)\n",
    "F = 125\n",
    "fringe_location = np.array([0, 0.5, 1, 1.5, 2])\n",
    "import sympy as sym\n",
    "from sympy import *\n",
    "L_1, L_2, L_3, L_4 = sym.symbols('L_1, L_2, L_3, L_4')\n",
    "eq1 = sym.Eq(L_3 - L_2, 2)\n",
    "eq2 = sym.Eq(L_3 + L_2, 5)\n",
    "sym.solve((eq1, eq2), (L_2, L_3))"
   ]
  },
  {
   "cell_type": "code",
   "execution_count": 3,
   "metadata": {},
   "outputs": [
    {
     "data": {
      "text/plain": [
       "{L_1: 1/2, L_4: 9/2}"
      ]
     },
     "execution_count": 3,
     "metadata": {},
     "output_type": "execute_result"
    }
   ],
   "source": [
    "eq3 = sym.Eq(L_4 - L_1, 4)\n",
    "eq4 = sym.Eq(L_1 + L_4, 5)\n",
    "sym.solve((eq3, eq4), (L_1, L_4))"
   ]
  },
  {
   "cell_type": "code",
   "execution_count": 4,
   "metadata": {},
   "outputs": [],
   "source": [
    "L_1 = 0.5\n",
    "L_2 = 1.5\n",
    "L_3 = 3.5\n",
    "L_4 = 4.5\n",
    "M = (F*(L_2 - L_1)*0.225) / 2 #convert to lbf in"
   ]
  },
  {
   "cell_type": "code",
   "execution_count": 5,
   "metadata": {},
   "outputs": [
    {
     "name": "stdout",
     "output_type": "stream",
     "text": [
      "14.0625 lbf in\n"
     ]
    }
   ],
   "source": [
    "print(M, \"lbf in\")"
   ]
  },
  {
   "cell_type": "code",
   "execution_count": 6,
   "metadata": {},
   "outputs": [
    {
     "name": "stdout",
     "output_type": "stream",
     "text": [
      "0.017906692166015627\n",
      "[  0.         106.01832446 182.19445388 274.86232267 354.17973578]\n"
     ]
    }
   ],
   "source": [
    "z = np.array([0, (0.657-0.522), (0.754-0.522), (0.872-0.522), (0.973-0.522)])\n",
    "print(I_moment)\n",
    "sigma = (M * z) / I_moment\n",
    "print(sigma)"
   ]
  },
  {
   "cell_type": "code",
   "execution_count": 7,
   "metadata": {},
   "outputs": [
    {
     "data": {
      "image/png": "[encoded data removed]",
      "text/plain": [
       "<Figure size 432x288 with 1 Axes>"
      ]
     },
     "metadata": {
      "needs_background": "light"
     },
     "output_type": "display_data"
    }
   ],
   "source": [
    "plt.scatter(fringe_location, sigma)\n",
    "plt.xlabel('Fringe number')\n",
    "plt.ylabel('Stress [psi]')\n",
    "plt.grid()\n",
    "z = np.polyfit(fringe_location, sigma, 1)\n",
    "p = np.poly1d(z)\n",
    "plt.plot(fringe_location,p(fringe_location),\"r--\")\n",
    "plt.xticks(np.linspace(0,2,5))\n",
    "plt.show()"
   ]
  },
  {
   "cell_type": "code",
   "execution_count": 8,
   "metadata": {},
   "outputs": [
    {
     "name": "stdout",
     "output_type": "stream",
     "text": [
      "y=175.440694x+(8.010273)\n"
     ]
    }
   ],
   "source": [
    "#Equation of trendline\n",
    "print(\"y=%.6fx+(%.6f)\"%(z[0],z[1]))"
   ]
  },
  {
   "cell_type": "code",
   "execution_count": 9,
   "metadata": {},
   "outputs": [],
   "source": [
    "slope = z[0]"
   ]
  },
  {
   "cell_type": "code",
   "execution_count": 10,
   "metadata": {},
   "outputs": [
    {
     "name": "stdout",
     "output_type": "stream",
     "text": [
      "37.98291024072136\n"
     ]
    }
   ],
   "source": [
    "#fringe constant\n",
    "f_sigma = slope*thickness\n",
    "print(f_sigma)"
   ]
  },
  {
   "cell_type": "code",
   "execution_count": null,
   "metadata": {},
   "outputs": [],
   "source": []
  }
 ],
 "metadata": {
  "kernelspec": {
   "display_name": "Python 3",
   "language": "python",
   "name": "python3"
  },
  "language_info": {
   "codemirror_mode": {
    "name": "ipython",
    "version": 3
   },
   "file_extension": ".py",
   "mimetype": "text/x-python",
   "name": "python",
   "nbconvert_exporter": "python",
   "pygments_lexer": "ipython3",
   "version": "3.8.5"
  }
 },
 "nbformat": 4,
 "nbformat_minor": 4
}
